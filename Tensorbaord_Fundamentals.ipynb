{
  "nbformat": 4,
  "nbformat_minor": 0,
  "metadata": {
    "colab": {
      "provenance": [],
      "gpuType": "T4"
    },
    "kernelspec": {
      "name": "python3",
      "display_name": "Python 3"
    },
    "language_info": {
      "name": "python"
    },
    "accelerator": "GPU"
  },
  "cells": [
    {
      "cell_type": "markdown",
      "source": [
        "<div style=\"text-align:center; background-color:#f0f0f0; border-radius:10px; padding:10px;\">\n",
        "  <h1>Tensorboard Fundamentals</h1>\n",
        "</div>\n"
      ],
      "metadata": {
        "id": "wq8jH-xDfOyt"
      }
    },
    {
      "cell_type": "markdown",
      "source": [
        "**Objective**: The objective of this assignment is to gain practical experience with fundamental operations in TensorFlow, including creating and manipulating matrices, performing arithmetic operations on tensors, and understanding the difference between TensorFlow constants and variables."
      ],
      "metadata": {
        "id": "YP9e6GXqfovu"
      }
    },
    {
      "cell_type": "markdown",
      "source": [
        "# Part 1: Theoretical Queltions\n",
        "\n",
        "\n",
        "---\n",
        "\n"
      ],
      "metadata": {
        "id": "rph37ixyforK"
      }
    },
    {
      "cell_type": "markdown",
      "source": [
        "# Q1. What are the different data structures used in Tensorflow?. Give some examples ?"
      ],
      "metadata": {
        "id": "b3o9Q9cpfopl"
      }
    },
    {
      "cell_type": "markdown",
      "source": [
        "Tensarflow is an open source library, which uses various data structures for the various oprations amoung the data. These structures are shown below ;\n",
        "\n",
        "**Tensor :** A tensor is a fundamental data structure in TensorFlow, representing a multi-dimensional array of numerical values.\n",
        "\n",
        "**Vriable :** TensorFlow Variable is a type of tensor that is mutable. It can be updated during training.\n",
        "\n",
        "**SparseTensor:** It is used to efficiently represent tensors with a large number of zero values. Which is suitable for sparse data, like text data or high-dimensional categorical data.\n",
        "\n",
        "**RaggedTensor:** It represents a tensor with non-uniform shapes along one or more dimensions.It is useful for handling sequences with varying lengths.\n",
        "\n"
      ],
      "metadata": {
        "id": "18cPw5pEfohj"
      }
    },
    {
      "cell_type": "markdown",
      "source": [
        "# Q2. How does the TensorFlow constant differ from a TensorFlow variable? Explain with an example ?"
      ],
      "metadata": {
        "id": "1NXbc-hCfofo"
      }
    },
    {
      "cell_type": "markdown",
      "source": [
        "Constant and Varibale both are the type of tensor in the tensorflow but contants are fixed, once it defined. No any changes can be possible after defining the constant. While varible are changeble as we can use the assign() function for reassigning the value of varibale."
      ],
      "metadata": {
        "id": "MBNZS8u0focM"
      }
    },
    {
      "cell_type": "markdown",
      "source": [
        "# Q3. Describe the process of matrix addition, multiplication, and element wise operations in TensorFlow ?"
      ],
      "metadata": {
        "id": "XLelCy4Xfoan"
      }
    },
    {
      "cell_type": "markdown",
      "source": [
        "In matrix we have a functonality of some element wise opreations such as addition,multilpication and division..etc.Which are illusrated below ;\n",
        "\n",
        "**Matrix Addition :** Matrix addition can take place for two or more than two matrics. For this addition both metrics has to be same daimenstions.In matrix addition, corresponding elements of two matrices are added together.After the addition we got a same dimensional matrix as our inputs.\n",
        "\n",
        "**Multiplication Matrix :**For matrix multiplication the number of columns in the first matrix must be equal to the number of rows in the second matrix.Matrix multiplication involves multiplying elements of rows and columns in a systematic way."
      ],
      "metadata": {
        "id": "Gxwva2x_foXJ"
      }
    },
    {
      "cell_type": "markdown",
      "source": [
        "# Practical Implementation\n",
        "\n",
        "\n",
        "---\n",
        "\n"
      ],
      "metadata": {
        "id": "ekb5k9J-lBjl"
      }
    },
    {
      "cell_type": "markdown",
      "source": [
        "# Talk 1: Creating and Manipulating Matrices"
      ],
      "metadata": {
        "id": "Y6kkQvfLlSQL"
      }
    },
    {
      "cell_type": "markdown",
      "source": [
        "# 1. Create a normal matrix A with dimensions 2x2, using TensorFlow's random_normal function. Display the values of matrix."
      ],
      "metadata": {
        "id": "BE6bvgTSlSDm"
      }
    },
    {
      "cell_type": "code",
      "source": [
        "import tensorflow as tf\n",
        "from tensorflow import keras\n"
      ],
      "metadata": {
        "id": "EJoTMu7OlHpy"
      },
      "execution_count": 4,
      "outputs": []
    },
    {
      "cell_type": "code",
      "source": [
        "matrix_A=tf.random.normal(shape= (2,2))\n",
        "matrix_A"
      ],
      "metadata": {
        "colab": {
          "base_uri": "https://localhost:8080/"
        },
        "id": "DEPxNva5lg5C",
        "outputId": "4f32fef7-2894-4a89-c8bf-ec199a4293cc"
      },
      "execution_count": 18,
      "outputs": [
        {
          "output_type": "execute_result",
          "data": {
            "text/plain": [
              "<tf.Tensor: shape=(2, 2), dtype=float32, numpy=\n",
              "array([[ 1.5235794 , -0.38065702],\n",
              "       [ 0.26817006,  0.686679  ]], dtype=float32)>"
            ]
          },
          "metadata": {},
          "execution_count": 18
        }
      ]
    },
    {
      "cell_type": "markdown",
      "source": [
        "# 2. Create a Gaussian matrix B with dimensions x, using TensorFlow's truncated_normal function. Display the values of matrix."
      ],
      "metadata": {
        "id": "h8nKNZF0mNt4"
      }
    },
    {
      "cell_type": "code",
      "source": [
        "matrix_B= tf.random.truncated_normal (shape=(3,4), mean=0.0, stddev=1.0)\n",
        "matrix_B"
      ],
      "metadata": {
        "colab": {
          "base_uri": "https://localhost:8080/"
        },
        "id": "2sULsKq2lqeo",
        "outputId": "589dcf77-f443-4c4b-ca3c-4c007c2dfe27"
      },
      "execution_count": 13,
      "outputs": [
        {
          "output_type": "execute_result",
          "data": {
            "text/plain": [
              "<tf.Tensor: shape=(3, 4), dtype=float32, numpy=\n",
              "array([[-0.2037181 ,  1.3471638 ,  0.19712694,  1.1854779 ],\n",
              "       [ 0.22879878, -0.02142001, -0.5156563 ,  0.17262125],\n",
              "       [ 0.8558954 ,  0.3310792 , -0.63580185,  0.6716742 ]],\n",
              "      dtype=float32)>"
            ]
          },
          "metadata": {},
          "execution_count": 13
        }
      ]
    },
    {
      "cell_type": "code",
      "source": [
        "import matplotlib.pyplot as plt\n",
        "\n",
        "plt.plot(matrix_B)"
      ],
      "metadata": {
        "colab": {
          "base_uri": "https://localhost:8080/",
          "height": 499
        },
        "id": "e_5DjTBEm5q_",
        "outputId": "9d76eb02-6b53-40ac-8a13-c1c5b3ed8b77"
      },
      "execution_count": 14,
      "outputs": [
        {
          "output_type": "execute_result",
          "data": {
            "text/plain": [
              "[<matplotlib.lines.Line2D at 0x7a5d405011e0>,\n",
              " <matplotlib.lines.Line2D at 0x7a5d40501240>,\n",
              " <matplotlib.lines.Line2D at 0x7a5d40501270>,\n",
              " <matplotlib.lines.Line2D at 0x7a5d40501360>]"
            ]
          },
          "metadata": {},
          "execution_count": 14
        },
        {
          "output_type": "display_data",
          "data": {
            "text/plain": [
              "<Figure size 640x480 with 1 Axes>"
            ],
            "image/png": "[encoded data removed]"
          },
          "metadata": {}
        }
      ]
    },
    {
      "cell_type": "markdown",
      "source": [
        "# 3.Create a matrix C with dimensions 2x2, where the values are drawn from a normal distribution with a mean of 2 and a standard deviation of 0.x, using TensorFlow's random.normal function. Display the values of matrix."
      ],
      "metadata": {
        "id": "S7rMdMj8nuCH"
      }
    },
    {
      "cell_type": "code",
      "source": [
        "matrix_C= tf.random.normal(shape = (2,2), mean=2 , stddev=0)\n",
        "matrix_C"
      ],
      "metadata": {
        "colab": {
          "base_uri": "https://localhost:8080/"
        },
        "id": "fPZNZ-g-nJtt",
        "outputId": "24598b83-83b1-41dc-d7e7-d0d82028d059"
      },
      "execution_count": 17,
      "outputs": [
        {
          "output_type": "execute_result",
          "data": {
            "text/plain": [
              "<tf.Tensor: shape=(2, 2), dtype=float32, numpy=\n",
              "array([[2., 2.],\n",
              "       [2., 2.]], dtype=float32)>"
            ]
          },
          "metadata": {},
          "execution_count": 17
        }
      ]
    },
    {
      "cell_type": "markdown",
      "source": [
        "# 4.Perform matrix addition between matrix A and matrix B, and store the result in matrix ."
      ],
      "metadata": {
        "id": "gPePo6kjoTcM"
      }
    },
    {
      "cell_type": "code",
      "source": [
        "matrix_D= tf.add(matrix_A , matrix_C)\n",
        "matrix_D"
      ],
      "metadata": {
        "colab": {
          "base_uri": "https://localhost:8080/"
        },
        "id": "RXiqV2RyoC5c",
        "outputId": "d6455d10-d914-4490-f140-1c244879c537"
      },
      "execution_count": 23,
      "outputs": [
        {
          "output_type": "execute_result",
          "data": {
            "text/plain": [
              "<tf.Tensor: shape=(2, 2), dtype=float32, numpy=\n",
              "array([[3.5235794, 1.619343 ],\n",
              "       [2.26817  , 2.686679 ]], dtype=float32)>"
            ]
          },
          "metadata": {},
          "execution_count": 23
        }
      ]
    },
    {
      "cell_type": "markdown",
      "source": [
        "# 5.  Perform matrix multiplication between matrix C and matrix D, and store the result in matrix E."
      ],
      "metadata": {
        "id": "bC6AyfqQqJOG"
      }
    },
    {
      "cell_type": "code",
      "source": [
        "matrix_E = tf.matmul( matrix_C , matrix_D)\n",
        "matrix_E"
      ],
      "metadata": {
        "colab": {
          "base_uri": "https://localhost:8080/"
        },
        "id": "IRqGGpyWprAj",
        "outputId": "0eb1096e-25fb-4b22-9faf-7f1fcb666e90"
      },
      "execution_count": 25,
      "outputs": [
        {
          "output_type": "execute_result",
          "data": {
            "text/plain": [
              "<tf.Tensor: shape=(2, 2), dtype=float32, numpy=\n",
              "array([[11.583499,  8.612043],\n",
              "       [11.583499,  8.612043]], dtype=float32)>"
            ]
          },
          "metadata": {},
          "execution_count": 25
        }
      ]
    },
    {
      "cell_type": "markdown",
      "source": [
        "#Talk 2: Per;orming Additional Matrix Operations"
      ],
      "metadata": {
        "id": "pObli3Uoqm-8"
      }
    },
    {
      "cell_type": "markdown",
      "source": [
        "# 1. Create a matrix F with dimensions 2x2, initialized with random values using TensorFlow's random_uniform function."
      ],
      "metadata": {
        "id": "b2Dfv27rqm4N"
      }
    },
    {
      "cell_type": "code",
      "source": [
        "matrix_F=tf.random.uniform(shape=(2,2))\n",
        "matrix_F"
      ],
      "metadata": {
        "colab": {
          "base_uri": "https://localhost:8080/"
        },
        "id": "qW9i7cJkosrJ",
        "outputId": "5a9706e0-719b-44fe-c8e3-ff42460bb40e"
      },
      "execution_count": 27,
      "outputs": [
        {
          "output_type": "execute_result",
          "data": {
            "text/plain": [
              "<tf.Tensor: shape=(2, 2), dtype=float32, numpy=\n",
              "array([[0.05136859, 0.9265171 ],\n",
              "       [0.4362445 , 0.7334744 ]], dtype=float32)>"
            ]
          },
          "metadata": {},
          "execution_count": 27
        }
      ]
    },
    {
      "cell_type": "markdown",
      "source": [
        "# 2.Calculate the transpose of matrix F and store the result in matrix G."
      ],
      "metadata": {
        "id": "LlyilGzirJFh"
      }
    },
    {
      "cell_type": "code",
      "source": [
        "matrix_G=tf.transpose(matrix_F)\n",
        "matrix_G"
      ],
      "metadata": {
        "colab": {
          "base_uri": "https://localhost:8080/"
        },
        "id": "b54T_fLWq8Pt",
        "outputId": "41073d25-47ff-4681-8377-0ab472e0f79a"
      },
      "execution_count": 33,
      "outputs": [
        {
          "output_type": "execute_result",
          "data": {
            "text/plain": [
              "<tf.Tensor: shape=(2, 2), dtype=float32, numpy=\n",
              "array([[0.05136859, 0.4362445 ],\n",
              "       [0.9265171 , 0.7334744 ]], dtype=float32)>"
            ]
          },
          "metadata": {},
          "execution_count": 33
        }
      ]
    },
    {
      "cell_type": "markdown",
      "source": [
        "# Calculate the elementDwise exponential of matrix F and store the result in matrix H."
      ],
      "metadata": {
        "id": "1eOGI3X5r_-B"
      }
    },
    {
      "cell_type": "code",
      "source": [
        "matrix_H=tf.exp(matrix_F)\n",
        "matrix_H"
      ],
      "metadata": {
        "colab": {
          "base_uri": "https://localhost:8080/"
        },
        "id": "gZJLTxeArZQt",
        "outputId": "bbcaec38-1bd4-4910-e2c0-221e8a87d6cb"
      },
      "execution_count": 36,
      "outputs": [
        {
          "output_type": "execute_result",
          "data": {
            "text/plain": [
              "<tf.Tensor: shape=(2, 2), dtype=float32, numpy=\n",
              "array([[1.0527109, 2.5256972],\n",
              "       [1.5468869, 2.0823028]], dtype=float32)>"
            ]
          },
          "metadata": {},
          "execution_count": 36
        }
      ]
    },
    {
      "cell_type": "markdown",
      "source": [
        "#  Create a matrix I by concatenating matrix F and matrix G horizontally ."
      ],
      "metadata": {
        "id": "hpajbY88sYq3"
      }
    },
    {
      "cell_type": "code",
      "source": [
        "matrix_I=tf.concat([matrix_F, matrix_G ], axis=1)\n",
        "matrix_I"
      ],
      "metadata": {
        "colab": {
          "base_uri": "https://localhost:8080/"
        },
        "id": "z5tS_JAzsHky",
        "outputId": "26532840-ece2-44c6-d932-879a6d9f4ca3"
      },
      "execution_count": 42,
      "outputs": [
        {
          "output_type": "execute_result",
          "data": {
            "text/plain": [
              "<tf.Tensor: shape=(2, 4), dtype=float32, numpy=\n",
              "array([[0.05136859, 0.9265171 , 0.05136859, 0.4362445 ],\n",
              "       [0.4362445 , 0.7334744 , 0.9265171 , 0.7334744 ]], dtype=float32)>"
            ]
          },
          "metadata": {},
          "execution_count": 42
        }
      ]
    },
    {
      "cell_type": "markdown",
      "source": [
        "# Create a matrix J by concatenating matrix F and matrix H vertically."
      ],
      "metadata": {
        "id": "ccL6PNuDtkGz"
      }
    },
    {
      "cell_type": "code",
      "source": [
        "matrix_J= tf.concat([matrix_F,matrix_H], axis=0)\n",
        "matrix_J"
      ],
      "metadata": {
        "colab": {
          "base_uri": "https://localhost:8080/"
        },
        "id": "LxjuSOUmskD5",
        "outputId": "f6da7424-a06a-44e8-9c25-c51d9ea5c720"
      },
      "execution_count": 43,
      "outputs": [
        {
          "output_type": "execute_result",
          "data": {
            "text/plain": [
              "<tf.Tensor: shape=(4, 2), dtype=float32, numpy=\n",
              "array([[0.05136859, 0.9265171 ],\n",
              "       [0.4362445 , 0.7334744 ],\n",
              "       [1.0527109 , 2.5256972 ],\n",
              "       [1.5468869 , 2.0823028 ]], dtype=float32)>"
            ]
          },
          "metadata": {},
          "execution_count": 43
        }
      ]
    }
  ]
}